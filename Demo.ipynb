{
 "cells": [
  {
   "cell_type": "code",
   "execution_count": null,
   "metadata": {},
   "outputs": [],
   "source": [
    "# Use if main package is not in python path\n",
    "# import os, sys\n",
    "# sys.path.append(os.path.dirname(os.getcwd()))\n",
    "\n",
    "import numpy as np\n",
    "import torch\n",
    "import matplotlib.pyplot as plt\n",
    "import celldetection as cd\n",
    "\n",
    "from torch.cuda.amp import autocast\n",
    "from models.ArtefactLocalization_forward import ArtefactLocalization\n",
    "from models.cpn_custom_forward_2 import CPN\n",
    "from models.BinaryInpainting_forward import BinaryInpainting\n",
    "from models.ImageInpainting_forward import ImageInpainting\n",
    "from models.NeuralInpainting import NeuralInpainting\n",
    "from utils.datasets import TrainSetArtefacts, TrainSetIntact\n",
    "from utils.ops import convert_to_uint8, mask_cpn\n",
    "\n",
    "%matplotlib inline\n",
    "%load_ext autoreload\n",
    "%autoreload 2"
   ]
  },
  {
   "cell_type": "code",
   "execution_count": null,
   "metadata": {},
   "outputs": [],
   "source": [
    "cuda = torch.cuda.is_available()\n",
    "device = torch.device(\"cuda:0\")"
   ]
  },
  {
   "cell_type": "markdown",
   "metadata": {},
   "source": [
    "# Artifact Localization"
   ]
  },
  {
   "cell_type": "code",
   "execution_count": null,
   "metadata": {},
   "outputs": [],
   "source": [
    "crop_dim = 256\n",
    "data = TrainSetArtefacts(1, crop_dim)\n",
    "\n",
    "AL = ArtefactLocalization(cuda, device, crop_dim)"
   ]
  },
  {
   "cell_type": "code",
   "execution_count": null,
   "metadata": {},
   "outputs": [],
   "source": [
    "crop, _ = data.__getitem__(0)\n",
    "anno = AL.forward(crop.unsqueeze(1))\n",
    "anno = anno.cpu().detach().numpy()\n",
    "\n",
    "plt.figure(figsize=(10,5))\n",
    "plt.subplot(1,2,1)\n",
    "plt.title(\"Crop\")\n",
    "plt.imshow(crop[0], cmap=\"gray\")\n",
    "plt.axis(\"off\")\n",
    "plt.subplot(1,2,2)\n",
    "plt.title(\"Predicted Artifact\")\n",
    "plt.imshow(anno[0,0], cmap=\"gray\")\n",
    "plt.axis(\"off\")\n",
    "plt.show()"
   ]
  },
  {
   "cell_type": "markdown",
   "metadata": {},
   "source": [
    "# Binary Inpainting"
   ]
  },
  {
   "cell_type": "code",
   "execution_count": null,
   "metadata": {
    "scrolled": false
   },
   "outputs": [],
   "source": [
    "crop_dim = 256\n",
    "data = TrainSetIntact(1, crop_dim, n_test=1, test=True)\n",
    "\n",
    "cpn = CPN(cuda, device, order=2)\n",
    "BI = BinaryInpainting(cuda, device, max_len=192)"
   ]
  },
  {
   "cell_type": "code",
   "execution_count": null,
   "metadata": {},
   "outputs": [],
   "source": [
    "crop, mask = data.__getitem__(0)\n",
    "    \n",
    "crop = crop.unsqueeze(1)\n",
    "mask = mask.unsqueeze(1)\n",
    "    \n",
    "cpn_out = cpn.inference(crop)\n",
    "cpn_masked = mask_cpn(cpn_out, mask)[0]\n",
    "\n",
    "fourier = cd.asnumpy(cpn_masked[\"final_fourier\"])[0]\n",
    "locs = cd.asnumpy(cpn_masked[\"xy\"])[0]\n",
    "contours = cd.data.cpn.fourier2contour(fourier, locs)\n",
    "labels = cd.data.cpn.contours2labels(contours, size=crop.shape[-2:])\n",
    "\n",
    "painting = BI.forward(cpn_masked, mask)[0]  # Might happen inplace, investigate that\n",
    "\n",
    "crop = crop[0,0].cpu().detach().numpy()\n",
    "mask = mask[0,0].cpu().detach().numpy()\n",
    "painting = painting[0]\n",
    "\n",
    "plt.figure(figsize=(16,5))\n",
    "plt.subplot(1,3,1)\n",
    "plt.title(\"Crop\", size=12)\n",
    "plt.imshow(crop, cmap=\"gray\", vmin=-1, vmax=1)\n",
    "plt.axis(\"off\")\n",
    "plt.subplot(1,3,2)\n",
    "plt.title(\"Masked Segmentation\", size=12)\n",
    "plt.imshow(np.any(labels > 0, axis=-1), cmap=\"gray\", vmin=0, vmax=1)\n",
    "plt.imshow(mask, cmap=\"gray\", alpha=0.15)\n",
    "plt.axis(\"off\")\n",
    "plt.subplot(1,3,3)\n",
    "plt.title(\"Binary Painting\", size=12)\n",
    "plt.imshow(painting, cmap=\"gray\", vmin=0, vmax=1)\n",
    "plt.axis(\"off\")\n",
    "plt.show()"
   ]
  },
  {
   "cell_type": "markdown",
   "metadata": {},
   "source": [
    "# Image Inpainting"
   ]
  },
  {
   "cell_type": "code",
   "execution_count": null,
   "metadata": {},
   "outputs": [],
   "source": [
    "crop_dim = 256\n",
    "data = TrainSetIntact(1, crop_dim, n_test=1, test=True)\n",
    "\n",
    "cpn = CPN(cuda, device, order=2)\n",
    "BI = BinaryInpainting(cuda, device, max_len=192, order=2)\n",
    "II = ImageInpainting(cuda, device)"
   ]
  },
  {
   "cell_type": "code",
   "execution_count": null,
   "metadata": {
    "scrolled": false
   },
   "outputs": [],
   "source": [
    "crop, mask = data.__getitem__(0)\n",
    "    \n",
    "crop = crop.unsqueeze(1)\n",
    "mask = mask.unsqueeze(1)\n",
    "\n",
    "cpn_out = cpn.inference(crop)\n",
    "cpn_masked = mask_cpn(cpn_out, mask)[0]\n",
    "with torch.cuda.amp.autocast():\n",
    "    BI_painting = BI.forward(cpn_masked, mask)[0][0]  # Might happen inplace, investigate that\n",
    "    painting = II.forward(crop, mask.half(), BI_painting)\n",
    "\n",
    "crop = crop[0,0].cpu().detach().numpy()\n",
    "mask = mask[0,0].cpu().detach().numpy()\n",
    "painting = painting[0,0].cpu().detach().numpy()\n",
    "\n",
    "plt.figure(figsize=(16,5))\n",
    "plt.subplot(1,3,1)\n",
    "plt.title(\"Masked Crop\")\n",
    "plt.imshow(crop*(1-mask), cmap=\"gray\", vmin=-1, vmax=1)\n",
    "plt.axis(\"off\")\n",
    "plt.subplot(1,3,2)\n",
    "plt.title(\"Binary Painting\")\n",
    "plt.imshow(BI_painting, cmap=\"gray\", vmin=0, vmax=1)\n",
    "plt.axis(\"off\")\n",
    "plt.subplot(1,3,3)\n",
    "plt.title(\"Image Painting\")\n",
    "plt.imshow(painting, cmap=\"gray\", vmin=-1, vmax=1)\n",
    "plt.axis(\"off\")\n",
    "plt.show()"
   ]
  },
  {
   "cell_type": "markdown",
   "metadata": {},
   "source": [
    "# Neural Inpainting"
   ]
  },
  {
   "cell_type": "code",
   "execution_count": null,
   "metadata": {},
   "outputs": [],
   "source": [
    "crop_dim = 256\n",
    "data = TrainSetArtefacts(100, crop_dim, n_test=10, test=True)\n",
    "\n",
    "nin = NeuralInpainting(cuda, device, max_len=192, order=2)"
   ]
  },
  {
   "cell_type": "code",
   "execution_count": null,
   "metadata": {},
   "outputs": [],
   "source": [
    "crop, _ = data.__getitem__(0)\n",
    "crop = crop.unsqueeze(1)\n",
    "\n",
    "out = nin.inference(crop)\n",
    "print(out.keys())\n",
    "\n",
    "cpn = out[\"cpn\"]\n",
    "labels_masked = cd.data.contours2labels(cd.asnumpy(cpn[\"contours\"][0]), size=crop.shape[2:])\n",
    "labels_masked = np.any(labels_masked > 0, axis=-1)\n",
    "\n",
    "crop = out[\"crop\"][0,0].cpu().detach().numpy()\n",
    "mask = out[\"mask\"][0,0].cpu().detach().numpy()\n",
    "crop_masked = out[\"crop_masked\"][0,0].cpu().detach().numpy()\n",
    "labels  = out[\"binary_painting\"][0,0].cpu().detach().numpy()\n",
    "painting = out[\"painting\"][0,0].cpu().detach().numpy()\n",
    "\n",
    "crop = convert_to_uint8(crop, inp_range=(-1,1))\n",
    "mask = convert_to_uint8(mask, inp_range=(0,1))\n",
    "crop_masked = convert_to_uint8(crop_masked, inp_range=(-1,1))\n",
    "labels = convert_to_uint8(labels, inp_range=(0,1))\n",
    "labels_masked = convert_to_uint8(labels_masked, inp_range=(0,1))\n",
    "painting = convert_to_uint8(painting, inp_range=(-1,1))\n",
    "\n",
    "plt.figure(figsize=(16,11))\n",
    "plt.subplot(2,3,1)\n",
    "plt.title(\"Crop\", size=15)\n",
    "plt.imshow(crop, cmap=\"gray\", vmin=0, vmax=255)\n",
    "plt.axis(\"off\")\n",
    "plt.subplot(2,3,2)\n",
    "plt.title(\"Predicted Artifact\", size=15)\n",
    "plt.imshow(mask, cmap=\"gray\", vmin=0, vmax=255)\n",
    "plt.axis(\"off\")\n",
    "plt.subplot(2,3,3)\n",
    "plt.title(\"Masked Crop\", size=15)\n",
    "plt.imshow(crop_masked, cmap=\"gray\", vmin=0, vmax=255)\n",
    "plt.axis(\"off\")\n",
    "plt.subplot(2,3,4)\n",
    "plt.title(\"Cell Segmentation\", size=15)\n",
    "plt.imshow(labels_masked, cmap=\"gray\", vmin=0, vmax=255)\n",
    "plt.axis(\"off\")\n",
    "plt.subplot(2,3,5)\n",
    "plt.title(\"Binary Painting\", size=15)\n",
    "plt.imshow(labels, cmap=\"gray\", vmin=0, vmax=255)\n",
    "plt.axis(\"off\")\n",
    "plt.subplot(2,3,6)\n",
    "plt.title(\"Image Painting\", size=15)\n",
    "plt.imshow(painting, cmap=\"gray\", vmin=0, vmax=255)\n",
    "plt.axis(\"off\")\n",
    "plt.show()"
   ]
  },
  {
   "cell_type": "code",
   "execution_count": null,
   "metadata": {},
   "outputs": [],
   "source": []
  }
 ],
 "metadata": {
  "kernelspec": {
   "display_name": "Python 3",
   "language": "python",
   "name": "python3"
  },
  "language_info": {
   "codemirror_mode": {
    "name": "ipython",
    "version": 3
   },
   "file_extension": ".py",
   "mimetype": "text/x-python",
   "name": "python",
   "nbconvert_exporter": "python",
   "pygments_lexer": "ipython3",
   "version": "3.8.5"
  }
 },
 "nbformat": 4,
 "nbformat_minor": 4
}
