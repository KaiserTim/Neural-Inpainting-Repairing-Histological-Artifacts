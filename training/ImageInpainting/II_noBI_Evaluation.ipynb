{
 "cells": [
  {
   "cell_type": "code",
   "execution_count": null,
   "metadata": {},
   "outputs": [],
   "source": [
    "# For imports from V3 folder\n",
    "# import os, sys\n",
    "# sys.path.append(os.path.dirname(os.path.dirname(os.getcwd())))\n",
    "\n",
    "import time\n",
    "import numpy as np\n",
    "import torch\n",
    "import celldetection as cd\n",
    "\n",
    "from torch.utils.data import DataLoader\n",
    "from utils.datasets import TrainSetIntact\n",
    "from utils.ops import get_noise, mask_cpn\n",
    "from utils.II_noBI_evaluation import Evaluate\n",
    "from training_funcs_noBI import sample_II\n",
    "from models.cpn_custom_forward_2 import CPN\n",
    "from models.models_GatedUNet import GatedUNet\n",
    "\n",
    "%matplotlib inline\n",
    "%load_ext autoreload\n",
    "%autoreload 2"
   ]
  },
  {
   "cell_type": "code",
   "execution_count": null,
   "metadata": {},
   "outputs": [],
   "source": [
    "np.random.seed(42)\n",
    "torch.manual_seed(42);\n",
    "\n",
    "n_gpus = torch.cuda.device_count()\n",
    "cuda = torch.cuda.is_available()\n",
    "device = torch.device(\"cuda:0\" if cuda else \"cpu\")\n",
    "print(f\"Using GPU: {cuda}\")\n",
    "print(f\"Available GPUs: {n_gpus}\")\n",
    "print(\"Only tested with CUDA enabled\")"
   ]
  },
  {
   "cell_type": "code",
   "execution_count": null,
   "metadata": {},
   "outputs": [],
   "source": [
    "def forward(G, crop, mask, cpn, cuda, device):\n",
    "    bs, _, crop_dim, _ = mask.shape\n",
    "    noise = get_noise(0, 1, crop_dim, bs)\n",
    "    if cuda:\n",
    "        noise = noise.cuda(device)\n",
    "        \n",
    "    crop_masked = crop*(1-mask.half())\n",
    "    G_out = G(crop_masked, condition=torch.cat((mask, noise), dim=1), tanh=True)\n",
    "    G_painting = G_out*mask + crop*(1-mask.half())\n",
    "\n",
    "    cpn_out = cpn.inference(G_painting)\n",
    "    cpn_masked, fourier_removed, locs_removed = mask_cpn(cpn_out, mask)  # Only the cells within the mask        \n",
    "        \n",
    "    labels_prd = []\n",
    "    for fourier, locs in zip(fourier_removed, locs_removed):\n",
    "        contour = cd.data.cpn.fourier2contour(cd.asnumpy(fourier), cd.asnumpy(locs))\n",
    "        labels_prd.append(cd.data.contours2labels(contour, mask[0].shape[-2:]))\n",
    "    return labels_prd"
   ]
  },
  {
   "cell_type": "code",
   "execution_count": null,
   "metadata": {},
   "outputs": [],
   "source": [
    "crop_dim = 256  # Quadratic dimension of the image crops\n",
    "order = 2  # Fourier-order hyperparameter\n",
    "\n",
    "bs = 16\n",
    "\n",
    "G = GatedUNet(1, 1, 16, crop_dim, dilation=True, condition_channels=2,\n",
    "          kernel_size=3, padding=1, padding_mode=\"reflect\")\n",
    "G.eval()\n",
    "if cuda:\n",
    "    G = G.cuda(device)\n",
    "    \n",
    "G.load_state_dict(torch.load(\"saves/model_saves/G_GatedUNet_UNet_noBI.pt\", map_location=device))\n",
    "\n",
    "data = TrainSetIntact(100, crop_dim, n_test=1, test=True)\n",
    "loader = DataLoader(data, batch_size=bs, shuffle=False, num_workers=0, drop_last=False, pin_memory=True)\n",
    "\n",
    "print(f\"Generator Number of Parameters: {sum(p.numel() for p in G.parameters() if p.requires_grad)}\")\n",
    "\n",
    "II_eval = Evaluate(G, forward, loader, cuda, device, order=order)"
   ]
  },
  {
   "cell_type": "code",
   "execution_count": null,
   "metadata": {},
   "outputs": [],
   "source": [
    "start_time = time.time()\n",
    "with torch.cuda.amp.autocast():\n",
    "    CCE_results = II_eval.cell_count_error_fourier()\n",
    "torch.save(CCE_results, \"saves/CCE_IInoBI_results\")\n",
    "time.time()-start_time"
   ]
  },
  {
   "cell_type": "code",
   "execution_count": null,
   "metadata": {},
   "outputs": [],
   "source": [
    "CCE_results = torch.load(\"saves/CCE_IInoBI_results\")\n",
    "II_eval.cell_count_error_fourier(results=CCE_results, save_as=\"CCE_IInoBI\");"
   ]
  },
  {
   "cell_type": "code",
   "execution_count": null,
   "metadata": {
    "scrolled": false
   },
   "outputs": [],
   "source": [
    "start_time = time.time()\n",
    "with torch.cuda.amp.autocast():\n",
    "    CSE_results = II_eval.cell_size_error_fourier()\n",
    "torch.save(CSE_results, \"saves/CSE_IInoBI_results\")\n",
    "time.time()-start_time"
   ]
  },
  {
   "cell_type": "code",
   "execution_count": null,
   "metadata": {},
   "outputs": [],
   "source": [
    "CSE_results = torch.load(\"saves/CSE_IInoBI_results\")\n",
    "II_eval.cell_size_error_fourier(results=CSE_results, save_as=\"CSE_IInoBI\");"
   ]
  },
  {
   "cell_type": "code",
   "execution_count": null,
   "metadata": {},
   "outputs": [],
   "source": [
    "start_time = time.time()\n",
    "with torch.cuda.amp.autocast():\n",
    "    CEE_results = II_eval.cell_eccentricity_error_fourier()\n",
    "torch.save(CEE_results, \"saves/CEE_IInoBI_results\")\n",
    "time.time()-start_time"
   ]
  },
  {
   "cell_type": "code",
   "execution_count": null,
   "metadata": {},
   "outputs": [],
   "source": [
    "CEE_results = torch.load(\"saves/CEE_IInoBI_results\")\n",
    "II_eval.cell_eccentricity_error_fourier(results=CEE_results, save_as=\"CEE_IInoBI\");"
   ]
  },
  {
   "cell_type": "code",
   "execution_count": null,
   "metadata": {},
   "outputs": [],
   "source": [
    "cpn_object = CPN(cuda=cuda, device=device, order=order)"
   ]
  },
  {
   "cell_type": "code",
   "execution_count": null,
   "metadata": {},
   "outputs": [],
   "source": [
    "with torch.cuda.amp.autocast() and torch.no_grad():\n",
    "    sample_II(loader, G, cpn_object, cuda, device)"
   ]
  },
  {
   "cell_type": "code",
   "execution_count": null,
   "metadata": {},
   "outputs": [],
   "source": []
  }
 ],
 "metadata": {
  "kernelspec": {
   "display_name": "Python 3",
   "language": "python",
   "name": "python3"
  },
  "language_info": {
   "codemirror_mode": {
    "name": "ipython",
    "version": 3
   },
   "file_extension": ".py",
   "mimetype": "text/x-python",
   "name": "python",
   "nbconvert_exporter": "python",
   "pygments_lexer": "ipython3",
   "version": "3.7.10"
  }
 },
 "nbformat": 4,
 "nbformat_minor": 4
}