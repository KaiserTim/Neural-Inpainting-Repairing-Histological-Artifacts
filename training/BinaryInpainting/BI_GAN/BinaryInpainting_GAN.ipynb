{
 "cells": [
  {
   "cell_type": "code",
   "execution_count": null,
   "metadata": {
    "scrolled": false
   },
   "outputs": [],
   "source": [
    "# Use if main package is not in python path\n",
    "# import os, sys\n",
    "# sys.path.append(os.path.dirname(os.path.dirname(os.path.dirname(os.getcwd()))))\n",
    "\n",
    "import numpy as np\n",
    "import matplotlib.pyplot as plt\n",
    "\n",
    "import torch\n",
    "import torch.optim as optim\n",
    "from torch.utils.data import DataLoader\n",
    "from utils.datasets import TrainSetIntact\n",
    "from models.models_UNet import UNet\n",
    "from models.models_GatedUNet import GatedUNet\n",
    "from models.cpn_custom_forward_2 import CPN\n",
    "from training_funcs import train, sample_BI\n",
    "\n",
    "%matplotlib inline\n",
    "%load_ext autoreload\n",
    "%autoreload 2"
   ]
  },
  {
   "cell_type": "code",
   "execution_count": null,
   "metadata": {},
   "outputs": [],
   "source": [
    "np.random.seed(42)\n",
    "torch.manual_seed(42);\n",
    "\n",
    "n_gpus = torch.cuda.device_count()\n",
    "cuda = torch.cuda.is_available()\n",
    "device = torch.device(\"cuda:0\" if cuda else \"cpu\")\n",
    "print(f\"Using GPU: {cuda}\")\n",
    "print(f\"Available GPUs: {n_gpus}\")\n",
    "print(\"Only tested with CUDA enabled\")"
   ]
  },
  {
   "cell_type": "code",
   "execution_count": null,
   "metadata": {
    "scrolled": true
   },
   "outputs": [],
   "source": [
    "crop_dim = 256  # Quadratic dimension of the image crops\n",
    "\n",
    "bs = 16\n",
    "lr = 1e-4\n",
    "epochs = 100\n",
    "\n",
    "BG = GatedUNet(3, 1, 32, crop_dim, dilation=True, condition_channels=2, onehot=True,\n",
    "          kernel_size=3, padding=1, padding_mode=\"reflect\")\n",
    "BD = UNet(1, 1, 8, crop_dim, 1, leaky=True, batch_norm=False, sn=True,\n",
    "          kernel_size=3, padding=1, padding_mode=\"reflect\")\n",
    "\n",
    "if cuda:\n",
    "    BG = BG.cuda(device)\n",
    "    BD = BD.cuda(device)\n",
    "\n",
    "BG_opt = optim.Adam(BG.parameters(), lr=2*lr, betas=(0.5,0.999))\n",
    "BD_opt = optim.Adam(BD.parameters(), lr=lr, betas=(0.5,0.999))\n",
    "# BG_scheduler = optim.lr_scheduler.StepLR(BG_opt, 10, 0.9)\n",
    "# BD_scheduler = optim.lr_scheduler.StepLR(BD_opt, 10, 0.9)\n",
    "\n",
    "train_data = TrainSetIntact(100, crop_dim, n_test=True, test=False)\n",
    "train_loader = DataLoader(train_data, batch_size=bs, shuffle=False, num_workers=0, drop_last=False, pin_memory=True)\n",
    "\n",
    "test_data = TrainSetIntact(100, crop_dim, n_test=True, test=True)\n",
    "test_loader = DataLoader(test_data, batch_size=bs, shuffle=False, num_workers=0, drop_last=False, pin_memory=True)\n",
    "\n",
    "print(f\"Generator Number of Parameters: {BG.count_parameters()}\")\n",
    "print(f\"Discriminator Number of Parameters: {BD.count_parameters()}\")\n",
    "\n",
    "cpn = CPN(cuda, device, order=2)\n",
    "\n",
    "hists = train(train_loader, test_loader, epochs, BG, BD, BG_opt, BD_opt, cpn, cuda, device)"
   ]
  },
  {
   "cell_type": "code",
   "execution_count": null,
   "metadata": {
    "pycharm": {
     "name": "#%%\n"
    }
   },
   "outputs": [],
   "source": [
    "# torch.save(BG.state_dict(), \"model_saves/BG_GatedUNet_UNet_E72.pt\")\n",
    "# torch.save(BD.state_dict(), \"model_saves/BD_GatedUNet_UNet_E72.pt\")"
   ]
  },
  {
   "cell_type": "code",
   "execution_count": null,
   "metadata": {},
   "outputs": [],
   "source": [
    "plt.figure(figsize=(16,5))\n",
    "plt.subplot(1,2,1)\n",
    "plt.title(\"Losses\")\n",
    "plt.plot(BD_loss_hist)\n",
    "plt.plot(adv_loss_hist)\n",
    "plt.plot(con_loss_hist)\n",
    "plt.legend([\"D-Loss\", \"Adv-Loss\", \"Con-Loss\", \"G-Loss\"])\n",
    "plt.ylim(bottom=0, top=4)\n",
    "plt.xlabel(f\"Iterations (Batch-Size {bs})\")\n",
    "plt.subplot(1,2,2)\n",
    "plt.title(\"Accuracy\")\n",
    "plt.plot(BD_acc_true_hist)\n",
    "plt.plot(BD_acc_fake_hist)\n",
    "plt.legend([\"True Acc\", \"Fake Acc\"])\n",
    "plt.ylim([0,1])\n",
    "plt.xlabel(f\"Epochs (1000 Examples per Epoch)\")\n",
    "plt.show()"
   ]
  },
  {
   "cell_type": "code",
   "execution_count": null,
   "metadata": {
    "pycharm": {
     "name": "#%%\n"
    }
   },
   "outputs": [],
   "source": [
    "with torch.cuda.amp.autocast():\n",
    "    sample_BI(data, BG, BD, cpn, cuda=cuda, device=device)"
   ]
  },
  {
   "cell_type": "code",
   "execution_count": null,
   "metadata": {},
   "outputs": [],
   "source": []
  }
 ],
 "metadata": {
  "kernelspec": {
   "display_name": "Python 3",
   "language": "python",
   "name": "python3"
  },
  "language_info": {
   "codemirror_mode": {
    "name": "ipython",
    "version": 3
   },
   "file_extension": ".py",
   "mimetype": "text/x-python",
   "name": "python",
   "nbconvert_exporter": "python",
   "pygments_lexer": "ipython3",
   "version": "3.7.10"
  }
 },
 "nbformat": 4,
 "nbformat_minor": 4
}