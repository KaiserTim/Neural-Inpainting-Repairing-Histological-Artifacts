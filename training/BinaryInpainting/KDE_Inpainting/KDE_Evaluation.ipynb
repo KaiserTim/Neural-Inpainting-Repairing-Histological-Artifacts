{
 "cells": [
  {
   "cell_type": "code",
   "execution_count": null,
   "metadata": {},
   "outputs": [],
   "source": [
    "# For imports from V3 folder\n",
    "# import os, sys\n",
    "# sys.path.append(os.path.dirname(os.path.dirname(os.path.dirname(os.getcwd()))))\n",
    "\n",
    "import time\n",
    "import random\n",
    "import numpy as np\n",
    "import matplotlib.pyplot as plt\n",
    "import skimage\n",
    "import torch\n",
    "import celldetection as cd\n",
    "import torch.nn.functional as F\n",
    "\n",
    "from utils.DI_evaluation import Evaluate\n",
    "from torch.utils.data import DataLoader\n",
    "from models.density_fill_forward import DensityInpainting\n",
    "from utils.datasets import TrainSetIntact\n",
    "from utils.ops import smoothen, convert_to_uint8, get_noise, pad_batch, mask_cpn\n",
    "from training_funcs import sample_DI\n",
    "from models.cpn_custom_forward_2 import CPN\n",
    "\n",
    "from models.cGlow.CGlowModel import CondGlowModel\n",
    "\n",
    "%matplotlib inline\n",
    "%load_ext autoreload\n",
    "%autoreload 2"
   ]
  },
  {
   "cell_type": "code",
   "execution_count": null,
   "metadata": {},
   "outputs": [],
   "source": [
    "np.random.seed(42)\n",
    "torch.manual_seed(42);\n",
    "\n",
    "n_gpus = torch.cuda.device_count()\n",
    "cuda = torch.cuda.is_available()\n",
    "device = torch.device(\"cuda:0\" if cuda else \"cpu\")\n",
    "print(f\"Using GPU: {cuda}\")\n",
    "print(f\"Available GPUs: {n_gpus}\")\n",
    "print(\"Only tested with CUDA enabled\")"
   ]
  },
  {
   "cell_type": "code",
   "execution_count": null,
   "metadata": {},
   "outputs": [],
   "source": [
    "crop_dim = 256  # Quadratic dimension of the image crops\n",
    "order = 2  # Fourier-order hyperparameter\n",
    "f_dim = 4*order\n",
    "max_len = 192  # Max sequence length for padding\n",
    "\n",
    "bs = 16\n",
    "\n",
    "data = TrainSetIntact(100, crop_dim, n_test=1, test=True)\n",
    "loader = DataLoader(data, batch_size=bs, shuffle=False, num_workers=0, drop_last=False, pin_memory=True)\n",
    "\n",
    "DI_eval = Evaluate(loader, cuda, device, order)"
   ]
  },
  {
   "cell_type": "code",
   "execution_count": null,
   "metadata": {
    "scrolled": true
   },
   "outputs": [],
   "source": [
    "start_time = time.time()\n",
    "with torch.cuda.amp.autocast():\n",
    "    CCE_results = DI_eval.cell_count_error_fourier()\n",
    "torch.save(CCE_results, \"saves/CCE_results\")\n",
    "time.time()-start_time"
   ]
  },
  {
   "cell_type": "code",
   "execution_count": null,
   "metadata": {},
   "outputs": [],
   "source": [
    "CCE_results = torch.load(\"saves/CCE_results\")\n",
    "DI_eval.cell_count_error_fourier(results=CCE_results, save_as=\"CCE_DI\");"
   ]
  },
  {
   "cell_type": "code",
   "execution_count": null,
   "metadata": {},
   "outputs": [],
   "source": [
    "start_time = time.time()\n",
    "with torch.cuda.amp.autocast():\n",
    "    CKE_results = DI_eval.cell_kde_error_fourier()\n",
    "torch.save(CKE_results, \"saves/CKE_results\")\n",
    "time.time()-start_time"
   ]
  },
  {
   "cell_type": "code",
   "execution_count": null,
   "metadata": {},
   "outputs": [],
   "source": [
    "CKE_results = torch.load(\"saves/CKE_results\")\n",
    "DI_eval.cell_kde_error_fourier(results=CKE_results, save_as=\"CKE_DI\");"
   ]
  },
  {
   "cell_type": "code",
   "execution_count": null,
   "metadata": {},
   "outputs": [],
   "source": []
  }
 ],
 "metadata": {
  "kernelspec": {
   "display_name": "Python 3",
   "language": "python",
   "name": "python3"
  },
  "language_info": {
   "codemirror_mode": {
    "name": "ipython",
    "version": 3
   },
   "file_extension": ".py",
   "mimetype": "text/x-python",
   "name": "python",
   "nbconvert_exporter": "python",
   "pygments_lexer": "ipython3",
   "version": "3.7.10"
  }
 },
 "nbformat": 4,
 "nbformat_minor": 4
}
