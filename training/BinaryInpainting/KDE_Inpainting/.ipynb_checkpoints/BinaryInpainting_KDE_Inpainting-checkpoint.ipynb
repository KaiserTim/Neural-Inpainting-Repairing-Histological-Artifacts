{
 "cells": [
  {
   "cell_type": "code",
   "execution_count": null,
   "metadata": {},
   "outputs": [],
   "source": [
    "# Use if main package is not in python path\n",
    "# import os, sys\n",
    "# sys.path.append(os.path.dirname(os.path.dirname(os.path.dirname(os.getcwd()))))\n",
    "\n",
    "import numpy as np\n",
    "import matplotlib.pyplot as plt\n",
    "import celldetection as cd\n",
    "\n",
    "import torch\n",
    "import torch.optim as optim\n",
    "from torch.utils.data import DataLoader\n",
    "from utils.datasets import TrainSetIntact\n",
    "from utils.ops import smoothen, hparam_plot_epochs\n",
    "from models.models_GatedUNet import GatedUNet\n",
    "from models.cpn_custom_forward_2 import CPN\n",
    "\n",
    "from training_funcs import train, sample_DI\n",
    "\n",
    "%matplotlib inline\n",
    "%load_ext autoreload\n",
    "%autoreload 2"
   ]
  },
  {
   "cell_type": "code",
   "execution_count": null,
   "metadata": {},
   "outputs": [],
   "source": [
    "np.random.seed(42)\n",
    "torch.manual_seed(42);\n",
    "\n",
    "n_gpus = torch.cuda.device_count()\n",
    "cuda = torch.cuda.is_available()\n",
    "device = torch.device(\"cuda:0\" if cuda else \"cpu\")\n",
    "print(f\"Using GPU: {cuda}\")\n",
    "print(f\"Available GPUs: {n_gpus}\")\n",
    "print(\"Only tested with CUDA enabled\")"
   ]
  },
  {
   "cell_type": "code",
   "execution_count": null,
   "metadata": {
    "scrolled": true
   },
   "outputs": [],
   "source": [
    "crop_dim = 256  # Quadratic dimension of the image crops\n",
    "\n",
    "wu = 8  # Width unit\n",
    "bs = 64\n",
    "lr = 2e-3\n",
    "wd = 0\n",
    "epochs = 100\n",
    "\n",
    "DG = GatedUNet(1, 1, wu, crop_dim, dilation=False, condition_channels=1, kernel_size=3, padding=1)\n",
    "\n",
    "if cuda:\n",
    "    DG = DG.cuda(device)\n",
    "    \n",
    "DG_opt = optim.Adam(DG.parameters(), lr=lr, betas=(0.9,0.999))\n",
    "DG_scheduler = optim.lr_scheduler.MultiStepLR(DG_opt, [5, 10, 15, 25], 0.5)\n",
    "\n",
    "train_data = TrainSetIntact(1000, crop_dim, n_test=1, test=False)\n",
    "train_loader = DataLoader(train_data, batch_size=bs, shuffle=False, num_workers=0, drop_last=False)\n",
    "\n",
    "test_data = TrainSetIntact(100, crop_dim, n_test=1, test=True)\n",
    "test_loader = DataLoader(test_data, batch_size=bs, shuffle=False, num_workers=0, drop_last=False)\n",
    "\n",
    "print(f\"Generator Number of Parameters: {DG.count_parameters()}\")\n",
    "\n",
    "cpn = CPN(cuda, device)\n",
    "\n",
    "DG_loss_hist, test_loss_hist = train(train_loader, test_loader, epochs, DG, DG_opt, DG_scheduler, cpn, cuda, device, crop_dim, test=True)"
   ]
  },
  {
   "cell_type": "code",
   "execution_count": null,
   "metadata": {},
   "outputs": [],
   "source": [
    "# torch.save(DG.state_dict(), f\"saves/model_saves/DensityFill_GatedUNet_bs{bs}_lr{lr:.1e}_wu{wu}_wd{wd:.1e}_2.pt\")\n",
    "# torch.save((DG_loss_hist, test_loss_hist), f\"saves/model_saves/loss_hists_bs{bs}_lr{lr:.1e}_wu{wu}_wd{wd:.1e}_2.pt\")"
   ]
  },
  {
   "cell_type": "code",
   "execution_count": null,
   "metadata": {},
   "outputs": [],
   "source": [
    "bs = 64\n",
    "lr = 2e-3\n",
    "wu = 8\n",
    "wd = 0\n",
    "train_hist, test_hist = torch.load(f\"model_saves/loss_hists/loss_hists_bs{bs}_lr{lr:.1e}_wu{wu}_wd{wd:.1e}_2.pt\")\n",
    "iterations = int(1000/bs)\n",
    "plt.figure(figsize=(16,5))\n",
    "plt.scatter(np.arange(3, epochs+1)*iterations, test_hist[2:], color=f\"C{0}\", alpha=0.2)\n",
    "plt.plot(np.arange(3, epochs+1)*iterations, smoothen(test_hist[2:]), color=f\"C{0}\", label=f\"lr {lr}\")\n",
    "plt.plot(smoothen(train_hist), color=f\"C{0}\", alpha=0.3)\n",
    "plt.legend(loc=1)\n",
    "plt.xlabel(f\"Iterations (bs {bs})\")\n",
    "plt.ylabel(\"BCE Loss\")\n",
    "plt.ylim([0,0.2])\n",
    "plt.show()"
   ]
  },
  {
   "cell_type": "code",
   "execution_count": null,
   "metadata": {},
   "outputs": [],
   "source": [
    "with torch.cuda.amp.autocast():\n",
    "    sample_DI(test_loader, DG, cpn=cpn, crop_dim=crop_dim, plot=True, cuda=cuda, device=device)"
   ]
  },
  {
   "cell_type": "code",
   "execution_count": null,
   "metadata": {},
   "outputs": [],
   "source": []
  }
 ],
 "metadata": {
  "kernelspec": {
   "display_name": "Python 3",
   "language": "python",
   "name": "python3"
  },
  "language_info": {
   "codemirror_mode": {
    "name": "ipython",
    "version": 3
   },
   "file_extension": ".py",
   "mimetype": "text/x-python",
   "name": "python",
   "nbconvert_exporter": "python",
   "pygments_lexer": "ipython3",
   "version": "3.7.10"
  }
 },
 "nbformat": 4,
 "nbformat_minor": 4
}
