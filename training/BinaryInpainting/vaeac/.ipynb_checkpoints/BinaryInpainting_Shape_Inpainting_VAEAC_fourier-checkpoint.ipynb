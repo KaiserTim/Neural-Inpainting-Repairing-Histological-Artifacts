{
 "cells": [
  {
   "cell_type": "code",
   "execution_count": null,
   "metadata": {},
   "outputs": [],
   "source": [
    "# Use if main package is not in python path\n",
    "# import os, sys\n",
    "# sys.path.append(os.path.dirname(os.path.dirname(os.path.dirname(os.getcwd()))))\n",
    "\n",
    "import numpy as np\n",
    "import matplotlib.pyplot as plt\n",
    "\n",
    "import torch\n",
    "from torch.utils.data import DataLoader\n",
    "from utils.datasets import TrainSetIntact\n",
    "from models.cpn_custom_forward_2 import CPN\n",
    "from models.density_fill_forward import DensityInpainting\n",
    "from training_funcs import train, sample_SI\n",
    "\n",
    "import models.vaeac.models_vaeac as models_vaeac\n",
    "from models.vaeac.VAEAC import VAEAC\n",
    "\n",
    "%matplotlib inline\n",
    "%load_ext autoreload\n",
    "%autoreload 2"
   ]
  },
  {
   "cell_type": "code",
   "execution_count": null,
   "metadata": {},
   "outputs": [],
   "source": [
    "np.random.seed(42)\n",
    "torch.manual_seed(42);\n",
    "\n",
    "n_gpus = torch.cuda.device_count()\n",
    "cuda = torch.cuda.is_available()\n",
    "device = torch.device(\"cuda:0\" if cuda else \"cpu\")\n",
    "parallel = cuda and n_gpus > 1\n",
    "print(f\"Using GPU: {cuda}\")\n",
    "print(f\"Available GPUs: {n_gpus}\")\n",
    "print(\"Only tested with CUDA enabled\")"
   ]
  },
  {
   "cell_type": "code",
   "execution_count": null,
   "metadata": {
    "scrolled": true
   },
   "outputs": [],
   "source": [
    "crop_dim = 256  # Quadratic dimension of the image crops\n",
    "order = 2\n",
    "f_dim = 4*order\n",
    "\n",
    "bs = 32\n",
    "lr = 4e-4\n",
    "epochs = 100\n",
    "\n",
    "SG = VAEAC(models_vaeac.reconstruction_log_prob,\n",
    "           models_vaeac.proposal_network,\n",
    "           models_vaeac.prior_network,\n",
    "           models_vaeac.generative_network)\n",
    "\n",
    "if cuda:\n",
    "    SG = SG.cuda(device)\n",
    "\n",
    "SG_opt = torch.optim.Adam(SG.parameters(), lr=lr)\n",
    "\n",
    "train_data = TrainSetIntact(1000, crop_dim, n_test=1, test=False)\n",
    "train_loader = DataLoader(train_data, batch_size=bs, shuffle=False, num_workers=0, drop_last=False, pin_memory=True)\n",
    "\n",
    "test_data = TrainSetIntact(100, crop_dim, n_test=1, test=True)\n",
    "test_loader = DataLoader(test_data, batch_size=bs, shuffle=False, num_workers=0, drop_last=False, pin_memory=True)\n",
    "\n",
    "print(f\"Generator Number of Parameters: {sum(p.numel() for p in SG.parameters() if p.requires_grad)}\")\n",
    "\n",
    "# The inits are required for separate GPU training\n",
    "cpn = CPN(cuda, device, order=order)\n",
    "DI = DensityInpainting(cuda, device)\n",
    "SG_loss_hist = train(train_loader, test_loader, epochs, SG, SG_opt, DI, cpn, order, cuda, device)"
   ]
  },
  {
   "cell_type": "code",
   "execution_count": null,
   "metadata": {},
   "outputs": [],
   "source": [
    "# torch.save(SG.state_dict(), \"saves/model_saves/ShapeInpainting_VAEAC_fourier_cnn_o2.pt\")\n",
    "# torch.save(SG_loss_hist, \"saves/model_saves/ShapeInpainting_VAEAC_fourier_cnn_o2_losshist.pt\")"
   ]
  },
  {
   "cell_type": "code",
   "execution_count": null,
   "metadata": {},
   "outputs": [],
   "source": [
    "plt.figure(figsize=(16,5))\n",
    "plt.suptitle(f\"Final Loss: {SG_loss_hist[-1]:.2e}\")\n",
    "plt.ylim([-0.01,0.1])\n",
    "plt.plot(SG_loss_hist)\n",
    "plt.show()"
   ]
  },
  {
   "cell_type": "code",
   "execution_count": null,
   "metadata": {
    "scrolled": false
   },
   "outputs": [],
   "source": [
    "with torch.cuda.amp.autocast():\n",
    "    sample_SI(test_loader, SG, DI, cpn, order, cuda, device, True)"
   ]
  },
  {
   "cell_type": "code",
   "execution_count": null,
   "metadata": {},
   "outputs": [],
   "source": []
  }
 ],
 "metadata": {
  "kernelspec": {
   "display_name": "Python 3",
   "language": "python",
   "name": "python3"
  },
  "language_info": {
   "codemirror_mode": {
    "name": "ipython",
    "version": 3
   },
   "file_extension": ".py",
   "mimetype": "text/x-python",
   "name": "python",
   "nbconvert_exporter": "python",
   "pygments_lexer": "ipython3",
   "version": "3.7.10"
  }
 },
 "nbformat": 4,
 "nbformat_minor": 4
}
