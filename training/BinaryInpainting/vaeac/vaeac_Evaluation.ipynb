{
 "cells": [
  {
   "cell_type": "code",
   "execution_count": null,
   "outputs": [],
   "source": [
    "# For imports from V3 folder\n",
    "# import os, sys\n",
    "# sys.path.append(os.path.dirname(os.path.dirname(os.path.dirname(os.getcwd()))))\n",
    "\n",
    "import time\n",
    "import numpy as np\n",
    "import torch\n",
    "import celldetection as cd\n",
    "import torch.nn.functional as F\n",
    "\n",
    "from torch.utils.data import DataLoader\n",
    "from models.density_fill_forward import DensityInpainting\n",
    "from utils.datasets import TrainSetIntact\n",
    "from utils.ops import pad_batch\n",
    "from utils.BI_evaluation import Evaluate\n",
    "from models.cpn_custom_forward_2 import CPN\n",
    "from training_funcs import sample_SI\n",
    "\n",
    "import models.vaeac.models_vaeac as models_vaeac\n",
    "from models.vaeac.VAEAC import VAEAC\n",
    "\n",
    "%matplotlib inline\n",
    "%load_ext autoreload\n",
    "%autoreload 2"
   ],
   "metadata": {
    "collapsed": false,
    "pycharm": {
     "name": "#%%\n"
    }
   }
  },
  {
   "cell_type": "code",
   "execution_count": null,
   "metadata": {},
   "outputs": [],
   "source": [
    "np.random.seed(42)\n",
    "torch.manual_seed(42);\n",
    "\n",
    "n_gpus = torch.cuda.device_count()\n",
    "cuda = torch.cuda.is_available()\n",
    "device = torch.device(\"cuda:0\" if cuda else \"cpu\")\n",
    "print(f\"Using GPU: {cuda}\")\n",
    "print(f\"Available GPUs: {n_gpus}\")\n",
    "print(\"Only tested with CUDA enabled\")"
   ]
  },
  {
   "cell_type": "code",
   "execution_count": null,
   "metadata": {},
   "outputs": [],
   "source": [
    "def forward(SG, cpn_masked, mask, cuda, device, return_fourier=False):\n",
    "    bs = mask.shape[0]\n",
    "    with torch.no_grad():    \n",
    "        locs, locs_in_mask = DI.fill_locations(cpn_masked, mask)\n",
    "    n_new_cells = [locs_in_mask[i].shape[0] for i in range(len(locs_in_mask))]\n",
    "    n_cells = [locs[i].shape[0] for i in range(len(locs))]\n",
    "            \n",
    "    # Get Fourier Tensor \n",
    "    fourier_prd = cpn_masked[\"final_fourier\"]\n",
    "    order = fourier_prd[0].shape[-2]\n",
    "    f_dim = order*4\n",
    "    pop_idx = []   # list of indices with crops with n_cells > max_len        \n",
    "    for i in range(bs-1,-1,-1):  # range(bs) but backwards\n",
    "        if n_cells[i] >= max_len:\n",
    "            pop_idx.append(i)\n",
    "            fourier_prd.pop(i)\n",
    "            n_cells.pop(i)\n",
    "            n_new_cells.pop(i)\n",
    "            locs.pop(i)\n",
    "            locs_in_mask.pop(i)\n",
    "        else:\n",
    "            fourier_prd[i] = fourier_prd[i].reshape(-1, f_dim)\n",
    "            # Prepare Fourier Tensor for inference of new cells\n",
    "            fourier_prd[i] = F.pad(fourier_prd[i], (0,0,0,n_new_cells[i]))  # [T, f_dim]\n",
    "    bs -= len(pop_idx)\n",
    "    \n",
    "    fourier_prd, pad_mask = pad_batch(fourier_prd, max_len=max_len, f_dim=f_dim, cuda=cuda, device=device)  # [bs, max_len, f_dim]\n",
    "    fourier_prd = fourier_prd.unsqueeze(1)  # Channel dimension\n",
    "    pad_mask = pad_mask.unsqueeze(1)\n",
    "    \n",
    "    loc_mask = torch.zeros_like(fourier_prd, dtype=bool)  # [bs, 1, max_len, f_dim]\n",
    "    if cuda:\n",
    "        loc_mask = loc_mask.cuda(device)\n",
    "    for i in range(bs):\n",
    "        loc_mask[i, :, n_cells[i]-n_new_cells[i]:n_cells[i]] = 1  # Make this parallelized? \n",
    "\n",
    "    with torch.no_grad():\n",
    "        sample_params = SG.generate_samples_params(fourier_prd, loc_mask, pad_mask)[:,0].detach()\n",
    "    sample = models_vaeac.sampler(sample_params)  # Mean sampler atm\n",
    "    \n",
    "    fourier_prd[loc_mask] = sample[loc_mask].float()\n",
    "    if return_fourier:\n",
    "        fourier_model = []\n",
    "        for i in range(bs):\n",
    "            fourier_model.append(fourier_prd[i][loc_mask[i]])\n",
    "        return fourier_model, pop_idx  # Return only the new cells\n",
    "    \n",
    "    labels_prd = []\n",
    "    for i in range(bs):\n",
    "        # prd = fourier_prd[i, :, :n_cells[i]].reshape(-1,order,4)  # All cells\n",
    "        prd = fourier_prd[i, :, n_cells[i]-n_new_cells[i]:n_cells[i]].reshape(-1,order,4)  # Only the new cells\n",
    "        contour = cd.data.cpn.fourier2contour(cd.asnumpy(prd), cd.asnumpy(locs_in_mask[i]))\n",
    "        labels_prd.append(cd.data.contours2labels(contour, mask.shape[-2:]))\n",
    "    return labels_prd, pop_idx"
   ]
  },
  {
   "cell_type": "code",
   "execution_count": null,
   "metadata": {
    "scrolled": true
   },
   "outputs": [],
   "source": [
    "crop_dim = 256  # Quadratic dimension of the image crops\n",
    "order = 2  # Fourier-order hyperparameter\n",
    "f_dim = 4*order\n",
    "max_len = 192  # Max sequence length for padding\n",
    "\n",
    "bs = 16\n",
    "\n",
    "SG = VAEAC(models_vaeac.reconstruction_log_prob,\n",
    "           models_vaeac.proposal_network,\n",
    "           models_vaeac.prior_network,\n",
    "           models_vaeac.generative_network)\n",
    "SG.eval()\n",
    "if cuda:\n",
    "    SG = SG.cuda(device)\n",
    "    \n",
    "SG.load_state_dict(torch.load(\"saves/model_saves/ShapeInpainting_VAEAC_fourier_cnn_o2.pt\", map_location=device))\n",
    "\n",
    "data = TrainSetIntact(100, crop_dim, n_test=1, test=True)\n",
    "loader = DataLoader(data, batch_size=bs, shuffle=False, num_workers=0, drop_last=False, pin_memory=True)\n",
    "\n",
    "print(f\"Generator Number of Parameters: {sum(p.numel() for p in SG.parameters() if p.requires_grad)}\")\n",
    "\n",
    "DI = DensityInpainting(cuda, device)\n",
    "\n",
    "BI_eval = Evaluate(SG, forward, loader, cuda, device, order=order)"
   ]
  },
  {
   "cell_type": "code",
   "execution_count": null,
   "metadata": {
    "scrolled": false
   },
   "outputs": [],
   "source": [
    "start_time = time.time()\n",
    "with torch.cuda.amp.autocast():\n",
    "    CSE_results = BI_eval.cell_size_error_fourier()\n",
    "torch.save(CSE_results, \"saves/CSE_VAEAC_mean_results\")\n",
    "time.time()-start_time"
   ]
  },
  {
   "cell_type": "code",
   "execution_count": null,
   "metadata": {},
   "outputs": [],
   "source": [
    "CSE_results = torch.load(\"saves/CSE_VAEAC_mean_results\")\n",
    "BI_eval.cell_size_error_fourier(results=CSE_results, save_as=\"CSE_VAEAC_mean\");"
   ]
  },
  {
   "cell_type": "code",
   "execution_count": null,
   "metadata": {},
   "outputs": [],
   "source": [
    "start_time = time.time()\n",
    "with torch.cuda.amp.autocast():\n",
    "    CEE_results = BI_eval.cell_eccentricity_error_fourier()\n",
    "torch.save(CEE_results, \"saves/CEE_VAEAC_mean_results\")\n",
    "time.time()-start_time"
   ]
  },
  {
   "cell_type": "code",
   "execution_count": null,
   "metadata": {},
   "outputs": [],
   "source": [
    "CEE_results = torch.load(\"saves/CEE_VAEAC_mean_results\")\n",
    "BI_eval.cell_eccentricity_error_fourier(results=CEE_results, save_as=\"CEE_VAEAC_mean\");"
   ]
  },
  {
   "cell_type": "code",
   "execution_count": null,
   "metadata": {},
   "outputs": [],
   "source": [
    "start_time = time.time()\n",
    "with torch.cuda.amp.autocast():\n",
    "    PCA_results = BI_eval.pca_fourier();\n",
    "torch.save(PCA_results, \"saves/PCA_VAEAC_mean_results\")\n",
    "time.time()-start_time"
   ]
  },
  {
   "cell_type": "code",
   "execution_count": null,
   "metadata": {},
   "outputs": [],
   "source": [
    "PCA_results = torch.load(\"saves/PCA_VAEAC_mean_results\")\n",
    "BI_eval.pca_fourier(results=PCA_results, save_as=\"PCA_VAEAC_mean\");"
   ]
  },
  {
   "cell_type": "markdown",
   "metadata": {},
   "source": [
    "# Sample"
   ]
  },
  {
   "cell_type": "code",
   "execution_count": null,
   "metadata": {},
   "outputs": [],
   "source": [
    "cpn = CPN(cuda=cuda, device=device, order=order)"
   ]
  },
  {
   "cell_type": "code",
   "execution_count": null,
   "metadata": {},
   "outputs": [],
   "source": [
    "with torch.cuda.amp.autocast():\n",
    "    sample_SI(loader, SG, DI, cpn, order, cuda, device, True)"
   ]
  },
  {
   "cell_type": "code",
   "execution_count": null,
   "metadata": {},
   "outputs": [],
   "source": []
  }
 ],
 "metadata": {
  "kernelspec": {
   "display_name": "Python 3",
   "language": "python",
   "name": "python3"
  },
  "language_info": {
   "codemirror_mode": {
    "name": "ipython",
    "version": 3
   },
   "file_extension": ".py",
   "mimetype": "text/x-python",
   "name": "python",
   "nbconvert_exporter": "python",
   "pygments_lexer": "ipython3",
   "version": "3.7.10"
  }
 },
 "nbformat": 4,
 "nbformat_minor": 4
}