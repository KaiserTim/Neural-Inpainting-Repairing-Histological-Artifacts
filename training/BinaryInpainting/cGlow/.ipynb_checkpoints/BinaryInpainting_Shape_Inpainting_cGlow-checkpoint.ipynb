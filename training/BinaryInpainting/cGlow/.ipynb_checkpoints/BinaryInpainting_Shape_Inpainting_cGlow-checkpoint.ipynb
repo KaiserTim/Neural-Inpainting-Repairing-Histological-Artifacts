{
 "cells": [
  {
   "cell_type": "code",
   "execution_count": null,
   "metadata": {},
   "outputs": [],
   "source": [
    "# Use if main package is not in python path\n",
    "# import os, sys\n",
    "# sys.path.append(os.path.dirname(os.path.dirname(os.path.dirname(os.getcwd()))))\n",
    "\n",
    "import numpy as np\n",
    "import matplotlib.pyplot as plt\n",
    "import torch\n",
    "\n",
    "import torch.optim as optim\n",
    "from torch.utils.data import DataLoader\n",
    "from utils.datasets import TrainSetIntact\n",
    "from training_funcs import train, sample_SI\n",
    "from models.cpn_custom_forward_2 import CPN\n",
    "from models.density_fill_forward import DensityInpainting\n",
    "\n",
    "from models.cGlow.CGlowModel import CondGlowModel\n",
    "\n",
    "%matplotlib inline\n",
    "%load_ext autoreload\n",
    "%autoreload 2"
   ]
  },
  {
   "cell_type": "code",
   "execution_count": null,
   "metadata": {},
   "outputs": [],
   "source": [
    "np.random.seed(42)\n",
    "torch.manual_seed(42);\n",
    "\n",
    "n_gpus = torch.cuda.device_count()\n",
    "cuda = torch.cuda.is_available()\n",
    "device = torch.device(\"cuda:0\" if cuda else \"cpu\")\n",
    "print(f\"Using GPU: {cuda}\")\n",
    "print(f\"Available GPUs: {n_gpus}\")\n",
    "print(\"Only tested with CUDA enabled\")"
   ]
  },
  {
   "cell_type": "code",
   "execution_count": null,
   "metadata": {
    "scrolled": true
   },
   "outputs": [],
   "source": [
    "crop_dim = 256  # Quadratic dimension of the image crops\n",
    "order = 2  # Fourier-order hyperparameter\n",
    "f_dim = 4*order\n",
    "max_len = 192  # Max sequence length for padding\n",
    "\n",
    "bs = 64\n",
    "lr = 5e-3\n",
    "epochs = 200\n",
    "\n",
    "SG_loss_hist = []\n",
    "\n",
    "x_size = (1,max_len,f_dim)\n",
    "y_size = (1,max_len,f_dim)\n",
    "x_hidden_channels = 128\n",
    "x_hidden_size = 64\n",
    "y_hidden_channels = 256\n",
    "K = 16\n",
    "L = 3\n",
    "learn_top = False\n",
    "y_bins = 2\n",
    "\n",
    "max_grad_clip = 5\n",
    "max_grad_norm = 0\n",
    "\n",
    "SG = CondGlowModel(x_size, y_size, x_hidden_channels, x_hidden_size, y_hidden_channels, K, L, learn_top, y_bins)\n",
    "\n",
    "if cuda:\n",
    "    SG = SG.cuda(device)\n",
    "\n",
    "SG_opt = torch.optim.Adam(SG.parameters(), lr=lr)\n",
    "SG_scheduler = optim.lr_scheduler.StepLR(SG_opt, 10, 0.9)\n",
    "\n",
    "train_data = TrainSetIntact(1000, crop_dim, n_test=1, test=False)\n",
    "train_loader = DataLoader(train_data, batch_size=bs, shuffle=False, num_workers=0, drop_last=False, pin_memory=True)\n",
    "\n",
    "test_data = TrainSetIntact(100, crop_dim, n_test=1, test=True)\n",
    "test_loader = DataLoader(test_data, batch_size=bs, shuffle=False, num_workers=0, drop_last=False, pin_memory=True)\n",
    "        \n",
    "print(f\"Generator Number of Parameters: {sum(p.numel() for p in SG.parameters() if p.requires_grad)}\")\n",
    "\n",
    "# The inits are required for separate GPU training\n",
    "cpn = CPN(cuda, device, order)\n",
    "DI = DensityInpainting(cuda, device)\n",
    "hparams = [crop_dim, order, f_dim, max_len, bs]\n",
    "\n",
    "SG_loss_hist = train(train_loader, test_loader, epochs, SG, SG_opt, SG_scheduler, DI, cpn, hparams, \n",
    "                                     cuda, device, sample=True, test=False)"
   ]
  },
  {
   "cell_type": "code",
   "execution_count": null,
   "metadata": {},
   "outputs": [],
   "source": [
    "# torch.save(SG.state_dict(), f\"saves/model_saves/ShapeInpainting_o{order}_ml{max_len}_bs{bs}_lr{lr:.1e}_lrdc.pt\")\n",
    "# torch.save(SG_loss_hist, f\"saves/model_saves/loss_hists_o{order}_ml{max_len}_bs{bs}_lr{lr:.1e}_lrdc.pt\")"
   ]
  },
  {
   "cell_type": "code",
   "execution_count": null,
   "metadata": {},
   "outputs": [],
   "source": [
    "plt.figure(figsize=(16,5))\n",
    "plt.title(f\"Final Loss: {SG_loss_hist[-1]:.2e}\")\n",
    "plt.plot(SG_loss_hist)\n",
    "plt.ylim([0, 2])\n",
    "plt.show()"
   ]
  },
  {
   "cell_type": "code",
   "execution_count": null,
   "metadata": {
    "scrolled": false
   },
   "outputs": [],
   "source": [
    "sample_SI(test_loader, SG, DI, cpn, hparams, cuda=cuda, device=device)"
   ]
  },
  {
   "cell_type": "code",
   "execution_count": null,
   "metadata": {},
   "outputs": [],
   "source": []
  }
 ],
 "metadata": {
  "kernelspec": {
   "display_name": "Python 3",
   "language": "python",
   "name": "python3"
  },
  "language_info": {
   "codemirror_mode": {
    "name": "ipython",
    "version": 3
   },
   "file_extension": ".py",
   "mimetype": "text/x-python",
   "name": "python",
   "nbconvert_exporter": "python",
   "pygments_lexer": "ipython3",
   "version": "3.7.10"
  }
 },
 "nbformat": 4,
 "nbformat_minor": 4
}
