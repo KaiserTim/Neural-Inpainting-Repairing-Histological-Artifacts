{
 "cells": [
  {
   "cell_type": "code",
   "execution_count": null,
   "metadata": {
    "scrolled": true
   },
   "outputs": [],
   "source": [
    "# Use if main package is not in python path\n",
    "# import os, sys\n",
    "# sys.path.append(os.path.dirname(os.path.dirname(os.getcwd())))\n",
    "\n",
    "import numpy as np\n",
    "import matplotlib.pyplot as plt\n",
    "\n",
    "import torch\n",
    "import torch.optim as optim\n",
    "from torch.utils.data import DataLoader\n",
    "from utils.datasets import TrainSetArtefacts\n",
    "from utils.ops import hparam_plot_epochs\n",
    "from models.models_UNet import UNet\n",
    "from training_funcs import train, sample_P\n",
    "\n",
    "%matplotlib inline\n",
    "%load_ext autoreload\n",
    "%autoreload 2"
   ]
  },
  {
   "cell_type": "code",
   "execution_count": null,
   "metadata": {},
   "outputs": [],
   "source": [
    "np.random.seed(42)\n",
    "torch.manual_seed(42);\n",
    "\n",
    "n_gpus = torch.cuda.device_count()\n",
    "cuda = torch.cuda.is_available()\n",
    "device = torch.device(\"cuda:0\" if cuda else \"cpu\")\n",
    "print(f\"Using GPU: {cuda}\")\n",
    "print(f\"Available GPUs: {n_gpus}\")\n",
    "print(\"Only tested with CUDA enabled\")"
   ]
  },
  {
   "cell_type": "code",
   "execution_count": null,
   "metadata": {
    "scrolled": true
   },
   "outputs": [],
   "source": [
    "crop_dim = 384  # Quadratic dimension of the image crops\n",
    "\n",
    "wu = 16  # Width unit\n",
    "bs = 16\n",
    "lr = 4e-4\n",
    "epochs = 300\n",
    "wd = 5e-3\n",
    "\n",
    "predictor = UNet(1, 1, wu, crop_dim, 1, dilation=False, kernel_size=3, padding=1, bias=False, padding_mode=\"reflect\")\n",
    "print(f\"Predictor Number of Paramters: {predictor.count_parameters():,}\")\n",
    "\n",
    "if cuda:\n",
    "    predictor = predictor.cuda(device)\n",
    "    \n",
    "P_opt = optim.Adam(predictor.parameters(), lr=lr, betas=(0.9,0.999), weight_decay=wd)\n",
    "P_scheduler = optim.lr_scheduler.StepLR(P_opt, 10, 0.9)\n",
    "\n",
    "train_data = TrainSetArtefacts(1000, crop_dim, n_test=10)\n",
    "train_loader = DataLoader(train_data, batch_size=bs, shuffle=False, num_workers=0, drop_last=False, pin_memory=True)\n",
    "\n",
    "test_data = TrainSetArtefacts(100, crop_dim, n_test=10, test=True)\n",
    "test_loader = DataLoader(test_data, batch_size=bs, shuffle=False, num_workers=0, drop_last=False, pin_memory=True)\n",
    "\n",
    "P_loss_hist, test_loss_hist = train(train_loader, test_loader, epochs, predictor, P_opt, cuda, device, P_scheduler, sample=False, test=True)"
   ]
  },
  {
   "cell_type": "code",
   "execution_count": null,
   "metadata": {},
   "outputs": [],
   "source": [
    "plt.figure(figsize=(16,5))\n",
    "plt.title(\"Artifact Localization Loss\", size=12)\n",
    "hparam_plot_epochs(P_loss_hist, test_loss_hist, epochs, f\"C{0}\", bs, lr, wd, wu, label=f\"lr {lr:.0e}\",\n",
    "                   xlabel=f\"Epochs\", ylabel=\"BCE Loss\", ylim=[0,0.25])\n",
    "plt.show()"
   ]
  },
  {
   "cell_type": "code",
   "execution_count": null,
   "metadata": {},
   "outputs": [],
   "source": [
    "with torch.cuda.amp.autocast():\n",
    "    sample_P(test_loader, predictor, cuda=cuda, device=device, plot=True, save_as=None, seed=None)"
   ]
  },
  {
   "cell_type": "code",
   "execution_count": null,
   "metadata": {},
   "outputs": [],
   "source": [
    "# torch.save(predictor.state_dict(), \"model_saves/predictor.pt\")\n",
    "# torch.save((P_loss_hist, test_loss_hist), f\"model_saves/loss_hists_predictor.pt\")"
   ]
  }
 ],
 "metadata": {
  "kernelspec": {
   "display_name": "Python 3",
   "language": "python",
   "name": "python3"
  },
  "language_info": {
   "codemirror_mode": {
    "name": "ipython",
    "version": 3
   },
   "file_extension": ".py",
   "mimetype": "text/x-python",
   "name": "python",
   "nbconvert_exporter": "python",
   "pygments_lexer": "ipython3",
   "version": "3.7.10"
  }
 },
 "nbformat": 4,
 "nbformat_minor": 4
}
